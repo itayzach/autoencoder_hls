{
 "cells": [
  {
   "cell_type": "code",
   "execution_count": 2,
   "metadata": {},
   "outputs": [
    {
     "data": {
      "application/javascript": [
       "\n",
       "require(['notebook/js/codecell'], function(codecell) {\n",
       "  codecell.CodeCell.options_default.highlight_modes[\n",
       "      'magic_text/x-csrc'] = {'reg':[/^%%microblaze/]};\n",
       "  Jupyter.notebook.events.one('kernel_ready.Kernel', function(){\n",
       "      Jupyter.notebook.get_cells().map(function(cell){\n",
       "          if (cell.cell_type == 'code'){ cell.auto_highlight(); } }) ;\n",
       "  });\n",
       "});\n"
      ]
     },
     "metadata": {},
     "output_type": "display_data"
    }
   ],
   "source": [
    "from pynq import Overlay\n",
    "import pynq.lib.dma\n",
    "import numpy as np\n",
    "import random\n",
    "import time\n",
    "from pynq import Xlnk\n",
    "\n",
    "# Load the overlay\n",
    "overlay = Overlay('/home/xilinx/pynq/overlays/autoencoder/autoencoder.bit')"
   ]
  },
  {
   "cell_type": "code",
   "execution_count": 3,
   "metadata": {},
   "outputs": [],
   "source": [
    "# Load the DMA and enc_dec classes\n",
    "dma = overlay.enc_dec.enc_dec_dma\n",
    "enc_dec_ip = overlay.enc_dec.encoder_decoder_0"
   ]
  },
  {
   "cell_type": "code",
   "execution_count": 4,
   "metadata": {},
   "outputs": [],
   "source": [
    "# Write auto_restart (bit #7) to enc_dec ip ctrl register\n",
    "enc_dec_ip.write(0x0, 0x81) "
   ]
  },
  {
   "cell_type": "code",
   "execution_count": 5,
   "metadata": {},
   "outputs": [],
   "source": [
    "# Generates N symbols. Can be either:\n",
    "# [ 1 0 0 0 ] or\n",
    "# [ 0 1 0 0 ] or\n",
    "# [ 0 0 1 0 ] or\n",
    "# [ 0 0 0 1 ]\n",
    "def generate_random_data(N):\n",
    "    label = np.random.randint(4, size=N)\n",
    "    data = []\n",
    "    for i in label:\n",
    "        temp = np.zeros(4)\n",
    "        temp[i] = 1 << 24\n",
    "        data.append(temp)\n",
    "    data = np.hstack(np.array(data).astype(int))\n",
    "    return data"
   ]
  },
  {
   "cell_type": "code",
   "execution_count": 6,
   "metadata": {},
   "outputs": [],
   "source": [
    "# Counts the number of errors between in_buffer and out_buffer\n",
    "def count_error(in_buffer, out_buffer, Nsymbols):\n",
    "    error_cnt = 0\n",
    "    for sym_idx in range(Nsymbols):\n",
    "        if (not np.array_equal(in_buffer[4*sym_idx:4*(sym_idx+1)], out_buffer[4*sym_idx:4*(sym_idx+1)])):\n",
    "            #print('should be:', np.argmax(in_reshaped[sym_idx,]), '!= actual', np.argmax(out_reshaped[sym_idx,]))\n",
    "            error_cnt += 1\n",
    "    return error_cnt"
   ]
  },
  {
   "cell_type": "code",
   "execution_count": 7,
   "metadata": {},
   "outputs": [],
   "source": [
    "# Generates a range vector (for range of SNRs)\n",
    "def frange(x, y, jump):\n",
    "  while x < y:\n",
    "    yield x\n",
    "    x += jump"
   ]
  },
  {
   "cell_type": "markdown",
   "metadata": {},
   "source": [
    "# Performance (BER vs. SNR)"
   ]
  },
  {
   "cell_type": "code",
   "execution_count": 8,
   "metadata": {},
   "outputs": [
    {
     "name": "stdout",
     "output_type": "stream",
     "text": [
      "Started generating  50000  samples...\n",
      "Finished generating  50000  samples\n"
     ]
    }
   ],
   "source": [
    "Nsymbols = 50000\n",
    "print(\"Started generating \", Nsymbols, \" samples...\")\n",
    "data_in = generate_random_data(Nsymbols)\n",
    "print(\"Finished generating \", Nsymbols, \" samples\")"
   ]
  },
  {
   "cell_type": "code",
   "execution_count": 9,
   "metadata": {},
   "outputs": [
    {
     "name": "stdout",
     "output_type": "stream",
     "text": [
      "SNR =  0.00 [dB] | BER = 0.150 | exec time = 109.883 [ms]\n",
      "SNR =  0.50 [dB] | BER = 0.132 | exec time = 109.858 [ms]\n",
      "SNR =  1.00 [dB] | BER = 0.112 | exec time = 109.860 [ms]\n",
      "SNR =  1.50 [dB] | BER = 0.091 | exec time = 109.857 [ms]\n",
      "SNR =  2.00 [dB] | BER = 0.076 | exec time = 109.870 [ms]\n",
      "SNR =  2.50 [dB] | BER = 0.059 | exec time = 109.855 [ms]\n",
      "SNR =  3.00 [dB] | BER = 0.046 | exec time = 109.857 [ms]\n",
      "SNR =  3.50 [dB] | BER = 0.036 | exec time = 109.851 [ms]\n",
      "SNR =  4.00 [dB] | BER = 0.025 | exec time = 109.869 [ms]\n",
      "SNR =  4.50 [dB] | BER = 0.018 | exec time = 109.870 [ms]\n",
      "SNR =  5.00 [dB] | BER = 0.012 | exec time = 109.874 [ms]\n",
      "SNR =  5.50 [dB] | BER = 0.008 | exec time = 109.866 [ms]\n",
      "SNR =  6.00 [dB] | BER = 0.005 | exec time = 109.873 [ms]\n",
      "SNR =  6.50 [dB] | BER = 0.003 | exec time = 109.866 [ms]\n",
      "SNR =  7.00 [dB] | BER = 0.002 | exec time = 109.858 [ms]\n",
      "SNR =  7.50 [dB] | BER = 0.001 | exec time = 109.850 [ms]\n",
      "SNR =  8.00 [dB] | BER = 0.000 | exec time = 109.860 [ms]\n"
     ]
    }
   ],
   "source": [
    "# Initiate vectors and timer\n",
    "hw_exec_time_vec = np.zeros(Nsymbols)\n",
    "errors_vec = np.zeros(Nsymbols)\n",
    "start_time = time.time()\n",
    "stop_time = time.time()\n",
    "measure_self_time = stop_time - start_time\n",
    "\n",
    "# Memory mapped registers\n",
    "SNR_REG_ADDR       = 0x10\n",
    "AWGN_MODE_REG_ADDR = 0x18\n",
    "\n",
    "# Enable AWGN channel module\n",
    "# 0 - AWGN enabled\n",
    "# 1 - Loopback (encoder connected to decoder directly)\n",
    "enc_dec_ip.write(AWGN_MODE_REG_ADDR, 0x0)\n",
    "\n",
    "# Initiate buffers\n",
    "xlnk = Xlnk()\n",
    "in_buffer = xlnk.cma_array(shape=(len(data_in),), dtype=np.int32)\n",
    "out_buffer = xlnk.cma_array(shape=(len(data_in),), dtype=np.int32)\n",
    "np.copyto(in_buffer,data_in)\n",
    "\n",
    "# Set SNR range\n",
    "snr_range = list(frange(0.0, 8.5, 1/2))\n",
    "ber_vec = np.zeros(len(snr_range))\n",
    "\n",
    "# Loop over SNRs\n",
    "for snr_idx in range(len(snr_range)):\n",
    "    snr = snr_range[snr_idx]\n",
    "    # SNR is ap_ufixed<8,4>, so for example 8.75 is 1000.1100 = 0x7C\n",
    "    snr_ap_fixed_8_4 = int((snr * 2**4))\n",
    "    enc_dec_ip.write(SNR_REG_ADDR, snr_ap_fixed_8_4)\n",
    "    \n",
    "    start_time = time.time()\n",
    "    dma.sendchannel.transfer(in_buffer)\n",
    "    dma.recvchannel.transfer(out_buffer)\n",
    "    dma.sendchannel.wait()\n",
    "    dma.recvchannel.wait()\n",
    "\n",
    "    stop_time = time.time()\n",
    "    hw_exec_time_vec[snr_idx] = (stop_time - start_time - measure_self_time) * 1000\n",
    "    errs = (in_buffer != out_buffer)\n",
    "    errs =  errs.astype(int).sum()/2\n",
    "    ber_vec[snr_idx] = errs/Nsymbols\n",
    "    print(\"SNR =  %.2f [dB] | BER = %.3f | exec time = %5.3f [ms]\" % (snr, ber_vec[snr_idx], hw_exec_time_vec[snr_idx]))\n"
   ]
  },
  {
   "cell_type": "code",
   "execution_count": 10,
   "metadata": {},
   "outputs": [],
   "source": [
    "# Results from CPU run\n",
    "BER_vec_from_x86 = np.array([0.15322, 0.13234, 0.11066, 0.0914, 0.0752, 0.05912, 0.04642, 0.03584, 0.02562, 0.0192, 0.0115, 0.00842, 0.00532, 0.00322, 0.00146, 0.00104, 0.00038])\n",
    "SNR_vec_from_x86 = np.array([0.0,     0.5,     1.0,     1.5,    2.0,    2.5,     3.0,     3.5,     4.0,     4.5,     5.0,   5.5,     6.0,     6.5,     7.0,     7.5,     8.0])"
   ]
  },
  {
   "cell_type": "markdown",
   "metadata": {},
   "source": [
    "## BER vs. SNR"
   ]
  },
  {
   "cell_type": "code",
   "execution_count": 11,
   "metadata": {},
   "outputs": [
    {
     "data": {
      "text/plain": [
       "<Figure size 640x480 with 1 Axes>"
      ]
     },
     "metadata": {},
     "output_type": "display_data"
    }
   ],
   "source": [
    "import matplotlib.pyplot as plt\n",
    "# BER as function of SNR\n",
    "# %matplotlib inline\n",
    "plt.plot(snr_range[0:len(SNR_vec_from_x86)], ber_vec[0:len(BER_vec_from_x86)], 'bo', label='PYNQ')\n",
    "plt.yscale('log')\n",
    "plt.plot(SNR_vec_from_x86, BER_vec_from_x86, 'ro', label='CPU (x86)')\n",
    "plt.xlabel('SNR [dB]')\n",
    "plt.ylabel('BER')\n",
    "plt.grid(which='minor', alpha=0.2)\n",
    "plt.grid(which='major', alpha=0.5)\n",
    "plt.legend(loc='upper right',ncol = 1)\n",
    "plt.rcParams['figure.figsize'] = (8,6)\n",
    "plt.show()"
   ]
  },
  {
   "cell_type": "markdown",
   "metadata": {},
   "source": [
    "# Acceleration"
   ]
  },
  {
   "cell_type": "code",
   "execution_count": 12,
   "metadata": {},
   "outputs": [],
   "source": [
    "mean_sw_time_x86 = np.array([\n",
    "        1.33718252,   2.48003006,   4.728055  ,   5.84330559,\n",
    "         8.58491659,  12.78574467,  14.53801394,  18.90070438,\n",
    "        22.55301476,  25.4357934 ,  28.84516716,  32.89698362,\n",
    "        37.28247881,  41.18812084,  42.68226624,  46.46191597,\n",
    "        49.51156378,  52.9309392 ,  58.74325037,  61.30627394,\n",
    "        66.55865908,  68.87162924,  71.54535055,  77.36371756,\n",
    "        82.05834627,  82.76798725,  85.5718255 ,  88.1354332 ,\n",
    "        92.7267909 ,  99.04347658, 103.23832035, 105.39360046,\n",
    "       107.30762482, 110.28927565, 114.98961449, 118.9084053 ,\n",
    "       122.89119959, 124.81124401, 128.98906469, 132.92633295,\n",
    "       134.45657492, 140.55957794, 143.01980734, 148.7409234 ,\n",
    "       150.6405592 , 157.7855587 , 158.46712589, 159.66328382,\n",
    "       166.34050608, 171.93937302, 177.63944864, 174.51050282,\n",
    "       179.4383049 , 186.94297075, 191.83291197, 194.44311857,\n",
    "       203.51091623, 198.85662794, 201.02648735, 205.26673794,\n",
    "       209.74487066, 214.92580175, 216.94688797, 222.54804373,\n",
    "       224.261415  , 223.70918989, 229.85544205, 241.71677828,\n",
    "       244.21242476, 251.25153065, 249.23024178, 255.71408272,\n",
    "       258.42586756, 259.0318203 , 263.97647858, 276.93678141,\n",
    "       273.61328602, 276.53441429, 281.02831841, 285.98189354,\n",
    "       285.96547842, 295.13555765, 292.71230698, 297.64024019,\n",
    "       298.95777702, 301.28616095, 305.00073433, 307.49310255,\n",
    "       313.79945278, 315.30951262, 323.32295179, 325.84770918,\n",
    "       327.21458673, 331.70620203, 336.77486181, 339.91520405,\n",
    "       344.21472549, 342.57872105, 352.11946964, 358.3812356 ,\n",
    "       351.42768621, 362.97090054])"
   ]
  },
  {
   "cell_type": "code",
   "execution_count": 13,
   "metadata": {},
   "outputs": [
    {
     "name": "stdout",
     "output_type": "stream",
     "text": [
      "[  10   60  110  160  200  300  400  500  600  700  800  900 1000 1100\n",
      " 1200 1300 1400 1500 1600 1700 1800 1900 2000 2100 2200 2300 2400 2500\n",
      " 2600 2700 2800 2900 3000 3100 3200 3300 3400 3500 3600 3700 3800 3900\n",
      " 4000 4100 4200 4300 4400 4500 4600 4700 4800 4900 5000 5100 5200 5300\n",
      " 5400 5500 5600 5700 5800 5900 6000 6100 6200 6300 6400 6500 6600 6700\n",
      " 6800 6900 7000 7100 7200 7300 7400 7500 7600 7700 7800 7900 8000 8100\n",
      " 8200 8300 8400 8500 8600 8700 8800 8900 9000 9100 9200 9300 9400 9500\n",
      " 9600 9700 9800 9900]\n"
     ]
    }
   ],
   "source": [
    "# Nsymbols = np.floor(np.linspace(10, 1250, 50)).astype(int)\n",
    "Ntests = 20\n",
    "Nsymbols = np.concatenate((np.arange(start=10, stop=200, step=50), \n",
    "                           np.arange(start=200, stop=10000, step=100)), axis=0)\n",
    "print(Nsymbols)\n",
    "hw_exec_time_vec = np.zeros((Ntests, len(Nsymbols)))\n",
    "start_time = time.time()\n",
    "stop_time = time.time()\n",
    "measure_self_time = stop_time-start_time\n",
    "\n",
    "for test_id in range(Ntests):\n",
    "    for y in range(len(Nsymbols)):\n",
    "        data_in = generate_random_data(Nsymbols[y])\n",
    "        in_buffer = xlnk.cma_array(shape=(len(data_in),), dtype=np.int32)\n",
    "        out_buffer = xlnk.cma_array(shape=(len(data_in),), dtype=np.int32)\n",
    "        np.copyto(in_buffer,data_in)    \n",
    "        start_time = time.time()\n",
    "        dma.sendchannel.transfer(in_buffer)\n",
    "        dma.recvchannel.transfer(out_buffer)\n",
    "        dma.sendchannel.wait()\n",
    "        dma.recvchannel.wait()\n",
    "        stop_time = time.time()\n",
    "        hw_exec_time_vec[test_id,y] = (stop_time-start_time-measure_self_time)*1000"
   ]
  },
  {
   "cell_type": "code",
   "execution_count": 14,
   "metadata": {},
   "outputs": [],
   "source": [
    "mean_hw_exec_time_vec = np.mean(hw_exec_time_vec, axis=0)"
   ]
  },
  {
   "cell_type": "code",
   "execution_count": 15,
   "metadata": {},
   "outputs": [
    {
     "data": {
      "image/png": "[encoded data removed]",
      "text/plain": [
       "<Figure size 432x288 with 1 Axes>"
      ]
     },
     "metadata": {},
     "output_type": "display_data"
    }
   ],
   "source": [
    "plt.plot(Nsymbols[1:10], mean_hw_exec_time_vec[1:10], 'r')\n",
    "plt.xlabel('# Symbols (16 Bytes)')\n",
    "plt.ylabel('HW execution time')\n",
    "plt.grid(which='minor', alpha=0.2)\n",
    "plt.grid(which='major', alpha=0.5)\n",
    "# plt.legend(loc='upper right',ncol = 1)\n",
    "plt.rcParams['figure.figsize'] = (8,6)\n",
    "plt.show()"
   ]
  },
  {
   "cell_type": "code",
   "execution_count": 16,
   "metadata": {},
   "outputs": [
    {
     "data": {
      "text/plain": [
       "Text(0,0.5,'Execution time [ms]')"
      ]
     },
     "execution_count": 16,
     "metadata": {},
     "output_type": "execute_result"
    },
    {
     "data": {
      "image/png": "[encoded data removed]",
      "text/plain": [
       "<Figure size 576x432 with 3 Axes>"
      ]
     },
     "metadata": {},
     "output_type": "display_data"
    }
   ],
   "source": [
    "# Execution time as function of data length\n",
    "fig, axarr = plt.subplots(2, sharex=True)\n",
    "fig.add_subplot(111, frameon=False)\n",
    "plt.tick_params(labelcolor='none', top=False, bottom=False, left=False, right=False)\n",
    "axarr[0].plot(Nsymbols, mean_hw_exec_time_vec, 'r')\n",
    "axarr[0].set_title('PYNQ')\n",
    "axarr[0].set_xlim(1,10000)\n",
    "axarr[1].plot(Nsymbols, mean_sw_time_x86)\n",
    "axarr[1].set_title('CPU (x86)')\n",
    "axarr[1].set_xlim(1,10000)\n",
    "plt.grid(which='minor', alpha=0)\n",
    "plt.grid(which='major', alpha=0.5)\n",
    "plt.xlabel('# Symbols (16 Bytes)')\n",
    "plt.ylabel('Execution time [ms]')"
   ]
  },
  {
   "cell_type": "code",
   "execution_count": 17,
   "metadata": {},
   "outputs": [
    {
     "data": {
      "image/png": "[encoded data removed]",
      "text/plain": [
       "<Figure size 576x432 with 1 Axes>"
      ]
     },
     "metadata": {},
     "output_type": "display_data"
    }
   ],
   "source": [
    "plt.plot(Nsymbols, mean_sw_time_x86/mean_hw_exec_time_vec, label='Average SW / HW exec. time')\n",
    "plt.plot(Nsymbols, np.ones(len(Nsymbols))*np.mean(mean_sw_time_x86/mean_hw_exec_time_vec), label='Average Speedup')\n",
    "plt.legend(loc='upper right',ncol = 1)\n",
    "plt.xlabel('# Symbols (16 Bytes)')\n",
    "plt.ylabel('Speedup')\n",
    "plt.grid(which='minor', alpha=0.2)\n",
    "plt.grid(which='major', alpha=0.5)\n",
    "plt.xlim(1,10000)\n",
    "# plt.legend(loc='upper right',ncol = 1)\n",
    "plt.rcParams['figure.figsize'] = (8,6)\n",
    "plt.show()"
   ]
  },
  {
   "cell_type": "code",
   "execution_count": 18,
   "metadata": {},
   "outputs": [
    {
     "data": {
      "text/plain": [
       "16.552903247518366"
      ]
     },
     "execution_count": 18,
     "metadata": {},
     "output_type": "execute_result"
    }
   ],
   "source": [
    "np.mean(mean_sw_time_x86/mean_hw_exec_time_vec)"
   ]
  },
  {
   "cell_type": "code",
   "execution_count": null,
   "metadata": {},
   "outputs": [],
   "source": []
  }
 ],
 "metadata": {
  "kernelspec": {
   "display_name": "Python 3",
   "language": "python",
   "name": "python3"
  },
  "language_info": {
   "codemirror_mode": {
    "name": "ipython",
    "version": 3
   },
   "file_extension": ".py",
   "mimetype": "text/x-python",
   "name": "python",
   "nbconvert_exporter": "python",
   "pygments_lexer": "ipython3",
   "version": "3.6.0"
  }
 },
 "nbformat": 4,
 "nbformat_minor": 2
}
